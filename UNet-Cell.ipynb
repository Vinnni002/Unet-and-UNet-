{
 "cells": [
  {
   "cell_type": "code",
   "execution_count": 1,
   "metadata": {
    "id": "5amyZTEoH42m"
   },
   "outputs": [],
   "source": [
    "import torch\n",
    "from torch import nn\n",
    "import torch.nn.functional as F\n",
    "import torch.optim as optim\n",
    "from torchvision import transforms\n",
    "import glob\n",
    "from PIL import Image\n",
    "import random\n",
    "import numpy as np\n",
    "import torchvision\n",
    "from tqdm import tqdm\n",
    "import os\n",
    "from torch.nn import init\n",
    "import cv2\n",
    "import h5py\n",
    "import math\n",
    "import pickle\n",
    "import matplotlib.pyplot as plt\n",
    "%matplotlib inline"
   ]
  },
  {
   "cell_type": "markdown",
   "metadata": {},
   "source": [
    "# UNet Model"
   ]
  },
  {
   "cell_type": "code",
   "execution_count": 2,
   "metadata": {
    "id": "Ca1sZO8UHzhz"
   },
   "outputs": [],
   "source": [
    "class UNet(nn.Module):\n",
    "    def contracting_block(self, in_channels, out_channels, kernel_size = 3):\n",
    "        block = torch.nn.Sequential(\n",
    "            torch.nn.Conv2d(kernel_size = kernel_size, in_channels = in_channels, out_channels = out_channels),\n",
    "            torch.nn.ReLU(),\n",
    "            torch.nn.BatchNorm2d(out_channels),\n",
    "            torch.nn.Conv2d(kernel_size = kernel_size, in_channels = out_channels, out_channels = out_channels),\n",
    "            torch.nn.ReLU(),\n",
    "            torch.nn.BatchNorm2d(out_channels)\n",
    "        )\n",
    "        return block\n",
    "    \n",
    "    def expansive_block(self, in_channels, mid_channels, out_channels, kernel_size = 3):\n",
    "        block = torch.nn.Sequential(\n",
    "            torch.nn.Conv2d(kernel_size = kernel_size, in_channels = in_channels, out_channels = mid_channels, padding = 1),\n",
    "            torch.nn.ReLU(),\n",
    "            torch.nn.BatchNorm2d(mid_channels),\n",
    "            torch.nn.Conv2d(kernel_size = kernel_size, in_channels = mid_channels, out_channels = mid_channels, padding = 1),\n",
    "            torch.nn.ReLU(),\n",
    "            torch.nn.BatchNorm2d(mid_channels),\n",
    "            torch.nn.Conv2d(kernel_size = kernel_size, in_channels = mid_channels, out_channels = out_channels, padding = 1),\n",
    "            torch.nn.ReLU(),\n",
    "            torch.nn.BatchNorm2d(out_channels)\n",
    "        )\n",
    "        return block\n",
    "    \n",
    "    def final_block(self, in_channels, mid_channel, out_channels, kernel_size=3):\n",
    "            block = torch.nn.Sequential(\n",
    "                    torch.nn.Conv2d(kernel_size=kernel_size, in_channels=in_channels, out_channels=mid_channel, padding = 1),\n",
    "                    torch.nn.ReLU(),\n",
    "                    torch.nn.BatchNorm2d(mid_channel),\n",
    "                    torch.nn.Conv2d(kernel_size=kernel_size, in_channels=mid_channel, out_channels=mid_channel, padding = 1),\n",
    "                    torch.nn.ReLU(),\n",
    "                    torch.nn.BatchNorm2d(mid_channel),\n",
    "                    torch.nn.Conv2d(kernel_size=kernel_size, in_channels=mid_channel, out_channels=out_channels, padding=1),\n",
    "                    torch.nn.ReLU(),\n",
    "                    torch.nn.BatchNorm2d(out_channels),\n",
    "                    torch.nn.Conv2d(kernel_size=kernel_size, in_channels=out_channels, out_channels=out_channels, padding=3),\n",
    "                    torch.nn.ReLU(),\n",
    "                    torch.nn.BatchNorm2d(out_channels),\n",
    "                    torch.nn.Softmax(dim = 1)\n",
    "                    )\n",
    "            return  block\n",
    "        \n",
    "    def __init__(self, in_channel, out_channel):\n",
    "        super(UNet, self).__init__()\n",
    "        \n",
    "        # Encode\n",
    "        self.conv_encode1 = self.contracting_block(in_channels = in_channel, out_channels = 64)\n",
    "        self.conv_maxpool1 = torch.nn.MaxPool2d(kernel_size = 2)\n",
    "        self.conv_encode2 = self.contracting_block(64, 128)\n",
    "        self.conv_maxpool2 = torch.nn.MaxPool2d(kernel_size = 2)\n",
    "        self.conv_encode3 = self.contracting_block(128, 256)\n",
    "        self.conv_maxpool3 = torch.nn.MaxPool2d(kernel_size = 2)\n",
    "        \n",
    "        # Bottleneck\n",
    "        self.bottleneck = torch.nn.Sequential(\n",
    "                                torch.nn.Conv2d(kernel_size = 3, in_channels = 256, out_channels = 512, padding = 1),\n",
    "                                torch.nn.ReLU(),\n",
    "                                torch.nn.BatchNorm2d(512),\n",
    "                                torch.nn.Conv2d(kernel_size = 3, in_channels = 512, out_channels = 512, padding = 1),\n",
    "                                torch.nn.ReLU(),\n",
    "                                torch.nn.BatchNorm2d(512),\n",
    "                                torch.nn.ConvTranspose2d(in_channels = 512, out_channels = 256, kernel_size = 3, padding = 1, stride = 1)\n",
    "                            )\n",
    "        \n",
    "        # Decode\n",
    "        self.conv_decode3 = self.expansive_block(512, 256, 128)\n",
    "        self.conv_decode2 = self.expansive_block(256, 128, 64)\n",
    "        self.final_layer = self.final_block(128, 64, out_channel)\n",
    "        \n",
    "    def crop_and_concat(self, upsampled, bypass, crop = False):\n",
    "        if crop:\n",
    "            c = (bypass.size()[2] - upsampled.size()[2])\n",
    "            upsampled = F.pad(upsampled, (int((c/2)), int((c/2)), int((c/2)), int((c/2))))\n",
    "            c = bypass.shape[2] - upsampled.shape[2]\n",
    "            upsampled = F.pad(upsampled, (c, 0, c, 0))\n",
    "        return torch.cat((upsampled, bypass), 1)\n",
    "    \n",
    "    def forward(self, x):\n",
    "        # Encode\n",
    "        encode_block1 = self.conv_encode1(x)\n",
    "        encode_pool1 = self.conv_maxpool1(encode_block1)\n",
    "        encode_block2 = self.conv_encode2(encode_pool1)\n",
    "        encode_pool2 = self.conv_maxpool2(encode_block2)\n",
    "        encode_block3 = self.conv_encode3(encode_pool2)\n",
    "        encode_pool3 = self.conv_maxpool3(encode_block3)\n",
    "        \n",
    "        # Bottleneck\n",
    "        bottleneck1 = self.bottleneck(encode_pool3)\n",
    "        \n",
    "        # Decode\n",
    "        decode_block3 = self.crop_and_concat(bottleneck1, encode_block3, crop=True)\n",
    "        cat_layer2 = self.conv_decode3(decode_block3)\n",
    "        decode_block2 = self.crop_and_concat(cat_layer2, encode_block2, crop=True)\n",
    "        cat_layer1 = self.conv_decode2(decode_block2)\n",
    "        decode_block1 = self.crop_and_concat(cat_layer1, encode_block1, crop=True)\n",
    "        final_layer = self.final_layer(decode_block1)\n",
    "        \n",
    "        return  final_layer"
   ]
  },
  {
   "cell_type": "markdown",
   "metadata": {},
   "source": [
    "# UNet++ Model"
   ]
  },
  {
   "cell_type": "code",
   "execution_count": 3,
   "metadata": {},
   "outputs": [],
   "source": [
    "def init_weights(net, init_type='normal'):\n",
    "    #print('initialization method [%s]' % init_type)\n",
    "    if init_type == 'kaiming':\n",
    "        net.apply(weights_init_kaiming)\n",
    "    else:\n",
    "        raise NotImplementedError('initialization method [%s] is not implemented' % init_type)\n",
    "\n",
    "def weights_init_kaiming(m):\n",
    "    classname = m.__class__.__name__\n",
    "    #print(classname)\n",
    "    if classname.find('Conv') != -1:\n",
    "        init.kaiming_normal_(m.weight.data, a=0, mode='fan_in')\n",
    "    elif classname.find('Linear') != -1:\n",
    "        init.kaiming_normal_(m.weight.data, a=0, mode='fan_in')\n",
    "    elif classname.find('BatchNorm') != -1:\n",
    "        init.normal_(m.weight.data, 1.0, 0.02)\n",
    "        init.constant_(m.bias.data, 0.0)\n",
    "\n",
    "### compute model params\n",
    "def count_param(model):\n",
    "    param_count = 0\n",
    "    for param in model.parameters():\n",
    "        param_count += param.view(-1).size()[0]\n",
    "    return param_count\n",
    "\n",
    "class unetConv2(nn.Module):\n",
    "    def __init__(self, in_size, out_size, is_batchnorm, n=2, ks=3, stride=1, padding=1):\n",
    "        super(unetConv2, self).__init__()\n",
    "        self.n = n\n",
    "        self.ks = ks\n",
    "        self.stride = stride\n",
    "        self.padding = padding\n",
    "        s = stride\n",
    "        p = padding\n",
    "        if is_batchnorm:\n",
    "            for i in range(1, n+1):\n",
    "                conv = nn.Sequential(nn.Conv2d(in_size, out_size, ks, s, p),\n",
    "                                     nn.BatchNorm2d(out_size),\n",
    "                                     nn.ReLU(inplace=True),)\n",
    "                setattr(self, 'conv%d'%i, conv)\n",
    "                in_size = out_size\n",
    "\n",
    "        else:\n",
    "            for i in range(1, n+1):\n",
    "                conv = nn.Sequential(nn.Conv2d(in_size, out_size, ks, s, p),\n",
    "                                     nn.ReLU(inplace=True),)\n",
    "                setattr(self, 'conv%d'%i, conv)\n",
    "                in_size = out_size\n",
    "\n",
    "        # initialise the blocks\n",
    "        for m in self.children():\n",
    "            init_weights(m, init_type='kaiming')\n",
    "\n",
    "    def forward(self, inputs):\n",
    "        x = inputs\n",
    "        for i in range(1, self.n+1):\n",
    "            conv = getattr(self, 'conv%d'%i)\n",
    "            x = conv(x)\n",
    "\n",
    "        return x\n",
    "\n",
    "class unetUp(nn.Module):\n",
    "    def __init__(self, in_size, out_size, is_deconv, n_concat=2):\n",
    "        super(unetUp, self).__init__()\n",
    "        self.conv = unetConv2(in_size+(n_concat-2)*out_size, out_size, False)\n",
    "        if is_deconv:\n",
    "            self.up = nn.ConvTranspose2d(in_size, out_size, kernel_size=2, stride=2, padding=0)\n",
    "        else:\n",
    "            self.up = nn.Sequential(\n",
    "                 nn.UpsamplingBilinear2d(scale_factor=2),\n",
    "                 nn.Conv2d(in_size, out_size, 1))\n",
    "           \n",
    "        # initialise the blocks\n",
    "        for m in self.children():\n",
    "            if m.__class__.__name__.find('unetConv2') != -1: continue\n",
    "            init_weights(m, init_type='kaiming')\n",
    "\n",
    "    def forward(self, high_feature, *low_feature):\n",
    "        outputs0 = self.up(high_feature)\n",
    "        for feature in low_feature:\n",
    "            outputs0 = torch.cat([outputs0, feature], 1)\n",
    "        return self.conv(outputs0)\n",
    "    \n",
    "class UNet_Nested(nn.Module):\n",
    "\n",
    "    def __init__(self, in_channels=1, n_classes=2, feature_scale=2, is_deconv=True, is_batchnorm=True, is_ds=True):\n",
    "        super(UNet_Nested, self).__init__()\n",
    "        self.in_channels = in_channels\n",
    "        self.feature_scale = feature_scale\n",
    "        self.is_deconv = is_deconv\n",
    "        self.is_batchnorm = is_batchnorm\n",
    "        self.is_ds = is_ds\n",
    "\n",
    "        filters = [64, 128, 256, 512, 1024]\n",
    "        filters = [int(x / self.feature_scale) for x in filters]\n",
    "\n",
    "        # downsampling\n",
    "        self.maxpool = nn.MaxPool2d(kernel_size=2)\n",
    "        self.conv00 = unetConv2(self.in_channels, filters[0], self.is_batchnorm)\n",
    "        self.conv10 = unetConv2(filters[0], filters[1], self.is_batchnorm)\n",
    "        self.conv20 = unetConv2(filters[1], filters[2], self.is_batchnorm)\n",
    "        self.conv30 = unetConv2(filters[2], filters[3], self.is_batchnorm)\n",
    "        self.conv40 = unetConv2(filters[3], filters[4], self.is_batchnorm)\n",
    "\n",
    "        # upsampling\n",
    "        self.up_concat01 = unetUp(filters[1], filters[0], self.is_deconv)\n",
    "        self.up_concat11 = unetUp(filters[2], filters[1], self.is_deconv)\n",
    "        self.up_concat21 = unetUp(filters[3], filters[2], self.is_deconv)\n",
    "        self.up_concat31 = unetUp(filters[4], filters[3], self.is_deconv)\n",
    "\n",
    "        self.up_concat02 = unetUp(filters[1], filters[0], self.is_deconv, 3)\n",
    "        self.up_concat12 = unetUp(filters[2], filters[1], self.is_deconv, 3)\n",
    "        self.up_concat22 = unetUp(filters[3], filters[2], self.is_deconv, 3)\n",
    "\n",
    "        self.up_concat03 = unetUp(filters[1], filters[0], self.is_deconv, 4)\n",
    "        self.up_concat13 = unetUp(filters[2], filters[1], self.is_deconv, 4)\n",
    "        \n",
    "        self.up_concat04 = unetUp(filters[1], filters[0], self.is_deconv, 5)\n",
    "        \n",
    "        # final conv (without any concat)\n",
    "        self.final_1 = nn.Conv2d(filters[0], n_classes, 1)\n",
    "        self.final_2 = nn.Conv2d(filters[0], n_classes, 1)\n",
    "        self.final_3 = nn.Conv2d(filters[0], n_classes, 1)\n",
    "        self.final_4 = nn.Conv2d(filters[0], n_classes, 1)\n",
    "        self.softmax = torch.nn.Softmax(dim = 1)\n",
    "        # initialise weights\n",
    "        for m in self.modules():\n",
    "            if isinstance(m, nn.Conv2d):\n",
    "                init_weights(m, init_type='kaiming')\n",
    "            elif isinstance(m, nn.BatchNorm2d):\n",
    "                init_weights(m, init_type='kaiming')\n",
    "\n",
    "    def forward(self, inputs):\n",
    "        # column : 0\n",
    "        X_00 = self.conv00(inputs)       # 16*512*512\n",
    "        maxpool0 = self.maxpool(X_00)    # 16*256*256\n",
    "        X_10= self.conv10(maxpool0)      # 32*256*256\n",
    "        maxpool1 = self.maxpool(X_10)    # 32*128*128\n",
    "        X_20 = self.conv20(maxpool1)     # 64*128*128\n",
    "        maxpool2 = self.maxpool(X_20)    # 64*64*64\n",
    "        X_30 = self.conv30(maxpool2)     # 128*64*64\n",
    "        maxpool3 = self.maxpool(X_30)    # 128*32*32\n",
    "        X_40 = self.conv40(maxpool3)     # 256*32*32\n",
    "        # column : 1\n",
    "        X_01 = self.up_concat01(X_10,X_00)\n",
    "        X_11 = self.up_concat11(X_20,X_10)\n",
    "        X_21 = self.up_concat21(X_30,X_20)\n",
    "        X_31 = self.up_concat31(X_40,X_30)\n",
    "        # column : 2\n",
    "        X_02 = self.up_concat02(X_11,X_00,X_01)\n",
    "        X_12 = self.up_concat12(X_21,X_10,X_11)\n",
    "        X_22 = self.up_concat22(X_31,X_20,X_21)\n",
    "        # column : 3\n",
    "        X_03 = self.up_concat03(X_12,X_00,X_01,X_02)\n",
    "        X_13 = self.up_concat13(X_22,X_10,X_11,X_12)\n",
    "        # column : 4\n",
    "        X_04 = self.up_concat04(X_13,X_00,X_01,X_02,X_03)\n",
    "\n",
    "        # final layer\n",
    "        final_1 = self.final_1(X_01)\n",
    "        final_2 = self.final_2(X_02)\n",
    "        final_3 = self.final_3(X_03)\n",
    "        final_4 = self.final_4(X_04)\n",
    "\n",
    "        final = (final_1+final_2+final_3+final_4)/4\n",
    "#         final = self.softmax(final)\n",
    "\n",
    "        if self.is_ds:\n",
    "            return final\n",
    "        else:\n",
    "            return final_4"
   ]
  },
  {
   "cell_type": "markdown",
   "metadata": {},
   "source": [
    "# Loading Dataset"
   ]
  },
  {
   "cell_type": "code",
   "execution_count": 4,
   "metadata": {},
   "outputs": [],
   "source": [
    "# files = glob.glob('cells/stage1_train/*/images/*')\n",
    "\n",
    "# X = []\n",
    "# y = []\n",
    "# c = 0\n",
    "\n",
    "# for i in files:\n",
    "#     c += 1\n",
    "#     print(c)\n",
    "#     img = np.array(cv2.resize((cv2.imread(i, cv2.COLOR_BGR2RGB)), (256, 256), interpolation = cv2.INTER_NEAREST))\n",
    "#     masks = glob.glob('cells/stage1_train/' + i.split('/')[2] + '/masks/*')\n",
    "#     m = np.zeros((img.shape[0], img.shape[1]))\n",
    "#     for j in masks:\n",
    "#         m += cv2.resize(np.array(cv2.imread(j, cv2.COLOR_BGR2RGB)), (256, 256), interpolation = cv2.INTER_NEAREST)\n",
    "        \n",
    "#     m = np.where(m == 255, 1, m) \n",
    "#     X.append(img)\n",
    "#     y.append(m)"
   ]
  },
  {
   "cell_type": "code",
   "execution_count": 5,
   "metadata": {},
   "outputs": [],
   "source": [
    "# X = np.array(X)\n",
    "# y = np.array(y)\n",
    "\n",
    "# n = X.shape[0]\n",
    "# sample = random.sample(range(0, n), n)\n",
    "# sample = np.array(sample)"
   ]
  },
  {
   "cell_type": "code",
   "execution_count": 6,
   "metadata": {},
   "outputs": [],
   "source": [
    "# np.save('sample-cell', sample)"
   ]
  },
  {
   "cell_type": "code",
   "execution_count": 7,
   "metadata": {},
   "outputs": [],
   "source": [
    "sample = np.load('sample-cell.npy')\n",
    "train = sample[:500]\n",
    "val = sample[500:550]\n",
    "test = sample[550:]"
   ]
  },
  {
   "cell_type": "code",
   "execution_count": 8,
   "metadata": {},
   "outputs": [],
   "source": [
    "# np.save('X_2', X)\n",
    "# np.save('y_2', y)"
   ]
  },
  {
   "cell_type": "code",
   "execution_count": 9,
   "metadata": {},
   "outputs": [],
   "source": [
    "X = np.load('X_2.npy')\n",
    "y = np.load('y_2.npy')"
   ]
  },
  {
   "cell_type": "markdown",
   "metadata": {},
   "source": [
    "# Implementing the model"
   ]
  },
  {
   "cell_type": "code",
   "execution_count": 10,
   "metadata": {
    "scrolled": true
   },
   "outputs": [
    {
     "data": {
      "text/plain": [
       "DataParallel(\n",
       "  (module): UNet_Nested(\n",
       "    (maxpool): MaxPool2d(kernel_size=2, stride=2, padding=0, dilation=1, ceil_mode=False)\n",
       "    (conv00): unetConv2(\n",
       "      (conv1): Sequential(\n",
       "        (0): Conv2d(3, 32, kernel_size=(3, 3), stride=(1, 1), padding=(1, 1))\n",
       "        (1): BatchNorm2d(32, eps=1e-05, momentum=0.1, affine=True, track_running_stats=True)\n",
       "        (2): ReLU(inplace=True)\n",
       "      )\n",
       "      (conv2): Sequential(\n",
       "        (0): Conv2d(32, 32, kernel_size=(3, 3), stride=(1, 1), padding=(1, 1))\n",
       "        (1): BatchNorm2d(32, eps=1e-05, momentum=0.1, affine=True, track_running_stats=True)\n",
       "        (2): ReLU(inplace=True)\n",
       "      )\n",
       "    )\n",
       "    (conv10): unetConv2(\n",
       "      (conv1): Sequential(\n",
       "        (0): Conv2d(32, 64, kernel_size=(3, 3), stride=(1, 1), padding=(1, 1))\n",
       "        (1): BatchNorm2d(64, eps=1e-05, momentum=0.1, affine=True, track_running_stats=True)\n",
       "        (2): ReLU(inplace=True)\n",
       "      )\n",
       "      (conv2): Sequential(\n",
       "        (0): Conv2d(64, 64, kernel_size=(3, 3), stride=(1, 1), padding=(1, 1))\n",
       "        (1): BatchNorm2d(64, eps=1e-05, momentum=0.1, affine=True, track_running_stats=True)\n",
       "        (2): ReLU(inplace=True)\n",
       "      )\n",
       "    )\n",
       "    (conv20): unetConv2(\n",
       "      (conv1): Sequential(\n",
       "        (0): Conv2d(64, 128, kernel_size=(3, 3), stride=(1, 1), padding=(1, 1))\n",
       "        (1): BatchNorm2d(128, eps=1e-05, momentum=0.1, affine=True, track_running_stats=True)\n",
       "        (2): ReLU(inplace=True)\n",
       "      )\n",
       "      (conv2): Sequential(\n",
       "        (0): Conv2d(128, 128, kernel_size=(3, 3), stride=(1, 1), padding=(1, 1))\n",
       "        (1): BatchNorm2d(128, eps=1e-05, momentum=0.1, affine=True, track_running_stats=True)\n",
       "        (2): ReLU(inplace=True)\n",
       "      )\n",
       "    )\n",
       "    (conv30): unetConv2(\n",
       "      (conv1): Sequential(\n",
       "        (0): Conv2d(128, 256, kernel_size=(3, 3), stride=(1, 1), padding=(1, 1))\n",
       "        (1): BatchNorm2d(256, eps=1e-05, momentum=0.1, affine=True, track_running_stats=True)\n",
       "        (2): ReLU(inplace=True)\n",
       "      )\n",
       "      (conv2): Sequential(\n",
       "        (0): Conv2d(256, 256, kernel_size=(3, 3), stride=(1, 1), padding=(1, 1))\n",
       "        (1): BatchNorm2d(256, eps=1e-05, momentum=0.1, affine=True, track_running_stats=True)\n",
       "        (2): ReLU(inplace=True)\n",
       "      )\n",
       "    )\n",
       "    (conv40): unetConv2(\n",
       "      (conv1): Sequential(\n",
       "        (0): Conv2d(256, 512, kernel_size=(3, 3), stride=(1, 1), padding=(1, 1))\n",
       "        (1): BatchNorm2d(512, eps=1e-05, momentum=0.1, affine=True, track_running_stats=True)\n",
       "        (2): ReLU(inplace=True)\n",
       "      )\n",
       "      (conv2): Sequential(\n",
       "        (0): Conv2d(512, 512, kernel_size=(3, 3), stride=(1, 1), padding=(1, 1))\n",
       "        (1): BatchNorm2d(512, eps=1e-05, momentum=0.1, affine=True, track_running_stats=True)\n",
       "        (2): ReLU(inplace=True)\n",
       "      )\n",
       "    )\n",
       "    (up_concat01): unetUp(\n",
       "      (conv): unetConv2(\n",
       "        (conv1): Sequential(\n",
       "          (0): Conv2d(64, 32, kernel_size=(3, 3), stride=(1, 1), padding=(1, 1))\n",
       "          (1): ReLU(inplace=True)\n",
       "        )\n",
       "        (conv2): Sequential(\n",
       "          (0): Conv2d(32, 32, kernel_size=(3, 3), stride=(1, 1), padding=(1, 1))\n",
       "          (1): ReLU(inplace=True)\n",
       "        )\n",
       "      )\n",
       "      (up): ConvTranspose2d(64, 32, kernel_size=(2, 2), stride=(2, 2))\n",
       "    )\n",
       "    (up_concat11): unetUp(\n",
       "      (conv): unetConv2(\n",
       "        (conv1): Sequential(\n",
       "          (0): Conv2d(128, 64, kernel_size=(3, 3), stride=(1, 1), padding=(1, 1))\n",
       "          (1): ReLU(inplace=True)\n",
       "        )\n",
       "        (conv2): Sequential(\n",
       "          (0): Conv2d(64, 64, kernel_size=(3, 3), stride=(1, 1), padding=(1, 1))\n",
       "          (1): ReLU(inplace=True)\n",
       "        )\n",
       "      )\n",
       "      (up): ConvTranspose2d(128, 64, kernel_size=(2, 2), stride=(2, 2))\n",
       "    )\n",
       "    (up_concat21): unetUp(\n",
       "      (conv): unetConv2(\n",
       "        (conv1): Sequential(\n",
       "          (0): Conv2d(256, 128, kernel_size=(3, 3), stride=(1, 1), padding=(1, 1))\n",
       "          (1): ReLU(inplace=True)\n",
       "        )\n",
       "        (conv2): Sequential(\n",
       "          (0): Conv2d(128, 128, kernel_size=(3, 3), stride=(1, 1), padding=(1, 1))\n",
       "          (1): ReLU(inplace=True)\n",
       "        )\n",
       "      )\n",
       "      (up): ConvTranspose2d(256, 128, kernel_size=(2, 2), stride=(2, 2))\n",
       "    )\n",
       "    (up_concat31): unetUp(\n",
       "      (conv): unetConv2(\n",
       "        (conv1): Sequential(\n",
       "          (0): Conv2d(512, 256, kernel_size=(3, 3), stride=(1, 1), padding=(1, 1))\n",
       "          (1): ReLU(inplace=True)\n",
       "        )\n",
       "        (conv2): Sequential(\n",
       "          (0): Conv2d(256, 256, kernel_size=(3, 3), stride=(1, 1), padding=(1, 1))\n",
       "          (1): ReLU(inplace=True)\n",
       "        )\n",
       "      )\n",
       "      (up): ConvTranspose2d(512, 256, kernel_size=(2, 2), stride=(2, 2))\n",
       "    )\n",
       "    (up_concat02): unetUp(\n",
       "      (conv): unetConv2(\n",
       "        (conv1): Sequential(\n",
       "          (0): Conv2d(96, 32, kernel_size=(3, 3), stride=(1, 1), padding=(1, 1))\n",
       "          (1): ReLU(inplace=True)\n",
       "        )\n",
       "        (conv2): Sequential(\n",
       "          (0): Conv2d(32, 32, kernel_size=(3, 3), stride=(1, 1), padding=(1, 1))\n",
       "          (1): ReLU(inplace=True)\n",
       "        )\n",
       "      )\n",
       "      (up): ConvTranspose2d(64, 32, kernel_size=(2, 2), stride=(2, 2))\n",
       "    )\n",
       "    (up_concat12): unetUp(\n",
       "      (conv): unetConv2(\n",
       "        (conv1): Sequential(\n",
       "          (0): Conv2d(192, 64, kernel_size=(3, 3), stride=(1, 1), padding=(1, 1))\n",
       "          (1): ReLU(inplace=True)\n",
       "        )\n",
       "        (conv2): Sequential(\n",
       "          (0): Conv2d(64, 64, kernel_size=(3, 3), stride=(1, 1), padding=(1, 1))\n",
       "          (1): ReLU(inplace=True)\n",
       "        )\n",
       "      )\n",
       "      (up): ConvTranspose2d(128, 64, kernel_size=(2, 2), stride=(2, 2))\n",
       "    )\n",
       "    (up_concat22): unetUp(\n",
       "      (conv): unetConv2(\n",
       "        (conv1): Sequential(\n",
       "          (0): Conv2d(384, 128, kernel_size=(3, 3), stride=(1, 1), padding=(1, 1))\n",
       "          (1): ReLU(inplace=True)\n",
       "        )\n",
       "        (conv2): Sequential(\n",
       "          (0): Conv2d(128, 128, kernel_size=(3, 3), stride=(1, 1), padding=(1, 1))\n",
       "          (1): ReLU(inplace=True)\n",
       "        )\n",
       "      )\n",
       "      (up): ConvTranspose2d(256, 128, kernel_size=(2, 2), stride=(2, 2))\n",
       "    )\n",
       "    (up_concat03): unetUp(\n",
       "      (conv): unetConv2(\n",
       "        (conv1): Sequential(\n",
       "          (0): Conv2d(128, 32, kernel_size=(3, 3), stride=(1, 1), padding=(1, 1))\n",
       "          (1): ReLU(inplace=True)\n",
       "        )\n",
       "        (conv2): Sequential(\n",
       "          (0): Conv2d(32, 32, kernel_size=(3, 3), stride=(1, 1), padding=(1, 1))\n",
       "          (1): ReLU(inplace=True)\n",
       "        )\n",
       "      )\n",
       "      (up): ConvTranspose2d(64, 32, kernel_size=(2, 2), stride=(2, 2))\n",
       "    )\n",
       "    (up_concat13): unetUp(\n",
       "      (conv): unetConv2(\n",
       "        (conv1): Sequential(\n",
       "          (0): Conv2d(256, 64, kernel_size=(3, 3), stride=(1, 1), padding=(1, 1))\n",
       "          (1): ReLU(inplace=True)\n",
       "        )\n",
       "        (conv2): Sequential(\n",
       "          (0): Conv2d(64, 64, kernel_size=(3, 3), stride=(1, 1), padding=(1, 1))\n",
       "          (1): ReLU(inplace=True)\n",
       "        )\n",
       "      )\n",
       "      (up): ConvTranspose2d(128, 64, kernel_size=(2, 2), stride=(2, 2))\n",
       "    )\n",
       "    (up_concat04): unetUp(\n",
       "      (conv): unetConv2(\n",
       "        (conv1): Sequential(\n",
       "          (0): Conv2d(160, 32, kernel_size=(3, 3), stride=(1, 1), padding=(1, 1))\n",
       "          (1): ReLU(inplace=True)\n",
       "        )\n",
       "        (conv2): Sequential(\n",
       "          (0): Conv2d(32, 32, kernel_size=(3, 3), stride=(1, 1), padding=(1, 1))\n",
       "          (1): ReLU(inplace=True)\n",
       "        )\n",
       "      )\n",
       "      (up): ConvTranspose2d(64, 32, kernel_size=(2, 2), stride=(2, 2))\n",
       "    )\n",
       "    (final_1): Conv2d(32, 2, kernel_size=(1, 1), stride=(1, 1))\n",
       "    (final_2): Conv2d(32, 2, kernel_size=(1, 1), stride=(1, 1))\n",
       "    (final_3): Conv2d(32, 2, kernel_size=(1, 1), stride=(1, 1))\n",
       "    (final_4): Conv2d(32, 2, kernel_size=(1, 1), stride=(1, 1))\n",
       "    (softmax): Softmax(dim=1)\n",
       "  )\n",
       ")"
      ]
     },
     "execution_count": 10,
     "metadata": {},
     "output_type": "execute_result"
    }
   ],
   "source": [
    "unet_plus = UNet_Nested(in_channels = 3, n_classes = 2)\n",
    "optimizer = torch.optim.Adam(unet_plus.parameters(), lr = 1e-3)\n",
    "unet_plus = nn.DataParallel(unet_plus)\n",
    "unet_plus.to(\"cuda\")"
   ]
  },
  {
   "cell_type": "code",
   "execution_count": 11,
   "metadata": {
    "scrolled": true
   },
   "outputs": [],
   "source": [
    "# unet = UNet(in_channel = 3, out_channel = 2)\n",
    "# optimizer = torch.optim.Adam(unet.parameters(), lr = 1e-3)\n",
    "# unet = nn.DataParallel(unet)\n",
    "# unet.to(\"cuda\")"
   ]
  },
  {
   "cell_type": "code",
   "execution_count": 10,
   "metadata": {},
   "outputs": [],
   "source": [
    "class DiceBCELoss(nn.Module):\n",
    "    def __init__(self, weight=None, size_average=True):\n",
    "        super(DiceBCELoss, self).__init__()\n",
    "\n",
    "    def forward(self, inputs, targets, smooth=1):\n",
    "        \n",
    "        #comment out if your model contains a sigmoid or equivalent activation layer\n",
    "        inputs = torch.sigmoid(inputs)       \n",
    "        \n",
    "        #flatten label and prediction tensors\n",
    "        inputs = inputs.contiguous().view(-1)\n",
    "        targets = targets.contiguous().view(-1)\n",
    "        \n",
    "        intersection = (inputs * targets).sum()                            \n",
    "        dice_loss = 1 - (2.*intersection + smooth)/(inputs.sum() + targets.sum() + smooth)\n",
    "        BCE = F.binary_cross_entropy(inputs, targets.float(), reduction='mean')\n",
    "        Dice_BCE = BCE + dice_loss\n",
    "        \n",
    "        return Dice_BCE"
   ]
  },
  {
   "cell_type": "code",
   "execution_count": 13,
   "metadata": {
    "scrolled": true
   },
   "outputs": [
    {
     "name": "stderr",
     "output_type": "stream",
     "text": [
      "Epoch is running :: 100%|██████████| 31/31 [00:32<00:00,  2.89it/s]\n",
      "Epoch is running ::   0%|          | 0/31 [00:00<?, ?it/s]"
     ]
    },
    {
     "name": "stdout",
     "output_type": "stream",
     "text": [
      "Epoch : 1 / 60, Loss : 0.42280272658794155, Val Loss : 0.17589991131136493\n"
     ]
    },
    {
     "name": "stderr",
     "output_type": "stream",
     "text": [
      "Epoch is running :: 100%|██████████| 31/31 [00:10<00:00,  3.13it/s]\n",
      "Epoch is running ::   0%|          | 0/31 [00:00<?, ?it/s]"
     ]
    },
    {
     "name": "stdout",
     "output_type": "stream",
     "text": [
      "Epoch : 2 / 60, Loss : 0.1788933630431852, Val Loss : 0.14386509695360739\n"
     ]
    },
    {
     "name": "stderr",
     "output_type": "stream",
     "text": [
      "Epoch is running :: 100%|██████████| 31/31 [00:09<00:00,  3.16it/s]\n",
      "Epoch is running ::   0%|          | 0/31 [00:00<?, ?it/s]"
     ]
    },
    {
     "name": "stdout",
     "output_type": "stream",
     "text": [
      "Epoch : 3 / 60, Loss : 0.14561029499576938, Val Loss : 0.13182064458247153\n"
     ]
    },
    {
     "name": "stderr",
     "output_type": "stream",
     "text": [
      "Epoch is running :: 100%|██████████| 31/31 [00:09<00:00,  3.05it/s]\n",
      "Epoch is running ::   0%|          | 0/31 [00:00<?, ?it/s]"
     ]
    },
    {
     "name": "stdout",
     "output_type": "stream",
     "text": [
      "Epoch : 4 / 60, Loss : 0.13091395290628557, Val Loss : 0.1317632871289407\n"
     ]
    },
    {
     "name": "stderr",
     "output_type": "stream",
     "text": [
      "Epoch is running :: 100%|██████████| 31/31 [00:09<00:00,  3.43it/s]\n",
      "Epoch is running ::   0%|          | 0/31 [00:00<?, ?it/s]"
     ]
    },
    {
     "name": "stdout",
     "output_type": "stream",
     "text": [
      "Epoch : 5 / 60, Loss : 0.12402664389341109, Val Loss : 0.12198047051506658\n"
     ]
    },
    {
     "name": "stderr",
     "output_type": "stream",
     "text": [
      "Epoch is running :: 100%|██████████| 31/31 [00:10<00:00,  2.94it/s]\n",
      "Epoch is running ::   0%|          | 0/31 [00:00<?, ?it/s]"
     ]
    },
    {
     "name": "stdout",
     "output_type": "stream",
     "text": [
      "Epoch : 6 / 60, Loss : 0.11855781150441017, Val Loss : 0.09755187217266328\n"
     ]
    },
    {
     "name": "stderr",
     "output_type": "stream",
     "text": [
      "Epoch is running :: 100%|██████████| 31/31 [00:09<00:00,  3.20it/s]\n",
      "Epoch is running ::   0%|          | 0/31 [00:00<?, ?it/s]"
     ]
    },
    {
     "name": "stdout",
     "output_type": "stream",
     "text": [
      "Epoch : 7 / 60, Loss : 0.12108035265438018, Val Loss : 0.12004192437856429\n"
     ]
    },
    {
     "name": "stderr",
     "output_type": "stream",
     "text": [
      "Epoch is running :: 100%|██████████| 31/31 [00:09<00:00,  3.08it/s]\n",
      "Epoch is running ::   0%|          | 0/31 [00:00<?, ?it/s]"
     ]
    },
    {
     "name": "stdout",
     "output_type": "stream",
     "text": [
      "Epoch : 8 / 60, Loss : 0.11481822618553715, Val Loss : 0.08775991658049245\n"
     ]
    },
    {
     "name": "stderr",
     "output_type": "stream",
     "text": [
      "Epoch is running :: 100%|██████████| 31/31 [00:10<00:00,  2.92it/s]\n",
      "Epoch is running ::   0%|          | 0/31 [00:00<?, ?it/s]"
     ]
    },
    {
     "name": "stdout",
     "output_type": "stream",
     "text": [
      "Epoch : 9 / 60, Loss : 0.10767506543667085, Val Loss : 0.08525949091680587\n"
     ]
    },
    {
     "name": "stderr",
     "output_type": "stream",
     "text": [
      "Epoch is running :: 100%|██████████| 31/31 [00:10<00:00,  3.20it/s]\n",
      "Epoch is running ::   0%|          | 0/31 [00:00<?, ?it/s]"
     ]
    },
    {
     "name": "stdout",
     "output_type": "stream",
     "text": [
      "Epoch : 10 / 60, Loss : 0.10332425323224836, Val Loss : 0.08433826988743197\n"
     ]
    },
    {
     "name": "stderr",
     "output_type": "stream",
     "text": [
      "Epoch is running :: 100%|██████████| 31/31 [00:10<00:00,  2.96it/s]\n",
      "Epoch is running ::   0%|          | 0/31 [00:00<?, ?it/s]"
     ]
    },
    {
     "name": "stdout",
     "output_type": "stream",
     "text": [
      "Epoch : 11 / 60, Loss : 0.10031289703422977, Val Loss : 0.08655849483705336\n"
     ]
    },
    {
     "name": "stderr",
     "output_type": "stream",
     "text": [
      "Epoch is running :: 100%|██████████| 31/31 [00:09<00:00,  3.46it/s]\n",
      "Epoch is running ::   0%|          | 0/31 [00:00<?, ?it/s]"
     ]
    },
    {
     "name": "stdout",
     "output_type": "stream",
     "text": [
      "Epoch : 12 / 60, Loss : 0.0997853429327088, Val Loss : 0.09270274831402686\n"
     ]
    },
    {
     "name": "stderr",
     "output_type": "stream",
     "text": [
      "Epoch is running :: 100%|██████████| 31/31 [00:10<00:00,  3.01it/s]\n",
      "Epoch is running ::   0%|          | 0/31 [00:00<?, ?it/s]"
     ]
    },
    {
     "name": "stdout",
     "output_type": "stream",
     "text": [
      "Epoch : 13 / 60, Loss : 0.09695317812504307, Val Loss : 0.08393691552262153\n"
     ]
    },
    {
     "name": "stderr",
     "output_type": "stream",
     "text": [
      "Epoch is running :: 100%|██████████| 31/31 [00:10<00:00,  3.04it/s]\n",
      "Epoch is running ::   0%|          | 0/31 [00:00<?, ?it/s]"
     ]
    },
    {
     "name": "stdout",
     "output_type": "stream",
     "text": [
      "Epoch : 14 / 60, Loss : 0.09632055473423773, Val Loss : 0.08064220749562787\n"
     ]
    },
    {
     "name": "stderr",
     "output_type": "stream",
     "text": [
      "Epoch is running :: 100%|██████████| 31/31 [00:09<00:00,  2.91it/s]\n",
      "Epoch is running ::   0%|          | 0/31 [00:00<?, ?it/s]"
     ]
    },
    {
     "name": "stdout",
     "output_type": "stream",
     "text": [
      "Epoch : 15 / 60, Loss : 0.09432784503986759, Val Loss : 0.082451309407911\n"
     ]
    },
    {
     "name": "stderr",
     "output_type": "stream",
     "text": [
      "Epoch is running :: 100%|██████████| 31/31 [00:10<00:00,  3.06it/s]\n",
      "Epoch is running ::   0%|          | 0/31 [00:00<?, ?it/s]"
     ]
    },
    {
     "name": "stdout",
     "output_type": "stream",
     "text": [
      "Epoch : 16 / 60, Loss : 0.09337968871958795, Val Loss : 0.08298513629744131\n"
     ]
    },
    {
     "name": "stderr",
     "output_type": "stream",
     "text": [
      "Epoch is running :: 100%|██████████| 31/31 [00:09<00:00,  3.06it/s]\n",
      "Epoch is running ::   0%|          | 0/31 [00:00<?, ?it/s]"
     ]
    },
    {
     "name": "stdout",
     "output_type": "stream",
     "text": [
      "Epoch : 17 / 60, Loss : 0.09277205673917648, Val Loss : 0.08145653432415377\n"
     ]
    },
    {
     "name": "stderr",
     "output_type": "stream",
     "text": [
      "Epoch is running :: 100%|██████████| 31/31 [00:10<00:00,  3.04it/s]\n",
      "Epoch is running ::   0%|          | 0/31 [00:00<?, ?it/s]"
     ]
    },
    {
     "name": "stdout",
     "output_type": "stream",
     "text": [
      "Epoch : 18 / 60, Loss : 0.09391066444016272, Val Loss : 0.08272609643397792\n"
     ]
    },
    {
     "name": "stderr",
     "output_type": "stream",
     "text": [
      "Epoch is running :: 100%|██████████| 31/31 [00:09<00:00,  3.15it/s]\n",
      "Epoch is running ::   0%|          | 0/31 [00:00<?, ?it/s]"
     ]
    },
    {
     "name": "stdout",
     "output_type": "stream",
     "text": [
      "Epoch : 19 / 60, Loss : 0.09139163083126468, Val Loss : 0.07754221077888242\n"
     ]
    },
    {
     "name": "stderr",
     "output_type": "stream",
     "text": [
      "Epoch is running :: 100%|██████████| 31/31 [00:10<00:00,  3.01it/s]\n",
      "Epoch is running ::   0%|          | 0/31 [00:00<?, ?it/s]"
     ]
    },
    {
     "name": "stdout",
     "output_type": "stream",
     "text": [
      "Epoch : 20 / 60, Loss : 0.09120127222230358, Val Loss : 0.07674537238574797\n"
     ]
    },
    {
     "name": "stderr",
     "output_type": "stream",
     "text": [
      "Epoch is running :: 100%|██████████| 31/31 [00:10<00:00,  3.16it/s]\n",
      "Epoch is running ::   0%|          | 0/31 [00:00<?, ?it/s]"
     ]
    },
    {
     "name": "stdout",
     "output_type": "stream",
     "text": [
      "Epoch : 21 / 60, Loss : 0.08833716317049918, Val Loss : 0.07813927867720205\n"
     ]
    },
    {
     "name": "stderr",
     "output_type": "stream",
     "text": [
      "Epoch is running :: 100%|██████████| 31/31 [00:09<00:00,  3.01it/s]\n",
      "Epoch is running ::   0%|          | 0/31 [00:00<?, ?it/s]"
     ]
    },
    {
     "name": "stdout",
     "output_type": "stream",
     "text": [
      "Epoch : 22 / 60, Loss : 0.0874952063445122, Val Loss : 0.078743280422303\n"
     ]
    },
    {
     "name": "stderr",
     "output_type": "stream",
     "text": [
      "Epoch is running :: 100%|██████████| 31/31 [00:09<00:00,  3.18it/s]\n",
      "Epoch is running ::   0%|          | 0/31 [00:00<?, ?it/s]"
     ]
    },
    {
     "name": "stdout",
     "output_type": "stream",
     "text": [
      "Epoch : 23 / 60, Loss : 0.08580703336384989, Val Loss : 0.07453870989622609\n"
     ]
    },
    {
     "name": "stderr",
     "output_type": "stream",
     "text": [
      "Epoch is running :: 100%|██████████| 31/31 [00:09<00:00,  2.99it/s]\n",
      "Epoch is running ::   0%|          | 0/31 [00:00<?, ?it/s]"
     ]
    },
    {
     "name": "stdout",
     "output_type": "stream",
     "text": [
      "Epoch : 24 / 60, Loss : 0.08715968434849093, Val Loss : 0.08115934628632761\n"
     ]
    },
    {
     "name": "stderr",
     "output_type": "stream",
     "text": [
      "Epoch is running :: 100%|██████████| 31/31 [00:10<00:00,  2.99it/s]\n",
      "Epoch is running ::   0%|          | 0/31 [00:00<?, ?it/s]"
     ]
    },
    {
     "name": "stdout",
     "output_type": "stream",
     "text": [
      "Epoch : 25 / 60, Loss : 0.08473511580978671, Val Loss : 0.07357033991044568\n"
     ]
    },
    {
     "name": "stderr",
     "output_type": "stream",
     "text": [
      "Epoch is running :: 100%|██████████| 31/31 [00:10<00:00,  3.08it/s]\n",
      "Epoch is running ::   0%|          | 0/31 [00:00<?, ?it/s]"
     ]
    },
    {
     "name": "stdout",
     "output_type": "stream",
     "text": [
      "Epoch : 26 / 60, Loss : 0.08220224659289083, Val Loss : 0.07341166177103596\n"
     ]
    },
    {
     "name": "stderr",
     "output_type": "stream",
     "text": [
      "Epoch is running :: 100%|██████████| 31/31 [00:10<00:00,  3.10it/s]\n",
      "Epoch is running ::   0%|          | 0/31 [00:00<?, ?it/s]"
     ]
    },
    {
     "name": "stdout",
     "output_type": "stream",
     "text": [
      "Epoch : 27 / 60, Loss : 0.08349698529608789, Val Loss : 0.07351468166997356\n"
     ]
    },
    {
     "name": "stderr",
     "output_type": "stream",
     "text": [
      "Epoch is running :: 100%|██████████| 31/31 [00:10<00:00,  3.01it/s]\n",
      "Epoch is running ::   0%|          | 0/31 [00:00<?, ?it/s]"
     ]
    },
    {
     "name": "stdout",
     "output_type": "stream",
     "text": [
      "Epoch : 28 / 60, Loss : 0.08107568287561016, Val Loss : 0.07234678874092718\n"
     ]
    },
    {
     "name": "stderr",
     "output_type": "stream",
     "text": [
      "Epoch is running :: 100%|██████████| 31/31 [00:10<00:00,  3.01it/s]\n",
      "Epoch is running ::   0%|          | 0/31 [00:00<?, ?it/s]"
     ]
    },
    {
     "name": "stdout",
     "output_type": "stream",
     "text": [
      "Epoch : 29 / 60, Loss : 0.08066945895552635, Val Loss : 0.0704973743807885\n"
     ]
    },
    {
     "name": "stderr",
     "output_type": "stream",
     "text": [
      "Epoch is running :: 100%|██████████| 31/31 [00:10<00:00,  3.05it/s]\n",
      "Epoch is running ::   0%|          | 0/31 [00:00<?, ?it/s]"
     ]
    },
    {
     "name": "stdout",
     "output_type": "stream",
     "text": [
      "Epoch : 30 / 60, Loss : 0.08314892096865562, Val Loss : 0.07939039338980951\n"
     ]
    },
    {
     "name": "stderr",
     "output_type": "stream",
     "text": [
      "Epoch is running :: 100%|██████████| 31/31 [00:09<00:00,  3.03it/s]\n",
      "Epoch is running ::   0%|          | 0/31 [00:00<?, ?it/s]"
     ]
    },
    {
     "name": "stdout",
     "output_type": "stream",
     "text": [
      "Epoch : 31 / 60, Loss : 0.09503897471774009, Val Loss : 0.07637001453868805\n"
     ]
    },
    {
     "name": "stderr",
     "output_type": "stream",
     "text": [
      "Epoch is running :: 100%|██████████| 31/31 [00:10<00:00,  3.09it/s]\n",
      "Epoch is running ::   0%|          | 0/31 [00:00<?, ?it/s]"
     ]
    },
    {
     "name": "stdout",
     "output_type": "stream",
     "text": [
      "Epoch : 32 / 60, Loss : 0.08569157375924048, Val Loss : 0.07404083566319558\n"
     ]
    },
    {
     "name": "stderr",
     "output_type": "stream",
     "text": [
      "Epoch is running :: 100%|██████████| 31/31 [00:09<00:00,  3.08it/s]\n",
      "Epoch is running ::   0%|          | 0/31 [00:00<?, ?it/s]"
     ]
    },
    {
     "name": "stdout",
     "output_type": "stream",
     "text": [
      "Epoch : 33 / 60, Loss : 0.08220860794667274, Val Loss : 0.07372161794093347\n"
     ]
    },
    {
     "name": "stderr",
     "output_type": "stream",
     "text": [
      "Epoch is running :: 100%|██████████| 31/31 [00:10<00:00,  2.99it/s]\n",
      "Epoch is running ::   0%|          | 0/31 [00:00<?, ?it/s]"
     ]
    },
    {
     "name": "stdout",
     "output_type": "stream",
     "text": [
      "Epoch : 34 / 60, Loss : 0.08478925581420621, Val Loss : 0.07213112207189683\n"
     ]
    },
    {
     "name": "stderr",
     "output_type": "stream",
     "text": [
      "Epoch is running :: 100%|██████████| 31/31 [00:10<00:00,  3.24it/s]\n",
      "Epoch is running ::   0%|          | 0/31 [00:00<?, ?it/s]"
     ]
    },
    {
     "name": "stdout",
     "output_type": "stream",
     "text": [
      "Epoch : 35 / 60, Loss : 0.08254035442106185, Val Loss : 0.07463292489128728\n"
     ]
    },
    {
     "name": "stderr",
     "output_type": "stream",
     "text": [
      "Epoch is running :: 100%|██████████| 31/31 [00:10<00:00,  3.12it/s]\n",
      "Epoch is running ::   0%|          | 0/31 [00:00<?, ?it/s]"
     ]
    },
    {
     "name": "stdout",
     "output_type": "stream",
     "text": [
      "Epoch : 36 / 60, Loss : 0.08333981878334476, Val Loss : 0.07177600576992958\n"
     ]
    },
    {
     "name": "stderr",
     "output_type": "stream",
     "text": [
      "Epoch is running :: 100%|██████████| 31/31 [00:09<00:00,  3.18it/s]\n",
      "Epoch is running ::   0%|          | 0/31 [00:00<?, ?it/s]"
     ]
    },
    {
     "name": "stdout",
     "output_type": "stream",
     "text": [
      "Epoch : 37 / 60, Loss : 0.07994929496799746, Val Loss : 0.07446324272501853\n"
     ]
    },
    {
     "name": "stderr",
     "output_type": "stream",
     "text": [
      "Epoch is running :: 100%|██████████| 31/31 [00:09<00:00,  3.15it/s]\n",
      "Epoch is running ::   0%|          | 0/31 [00:00<?, ?it/s]"
     ]
    },
    {
     "name": "stdout",
     "output_type": "stream",
     "text": [
      "Epoch : 38 / 60, Loss : 0.08122400038184659, Val Loss : 0.07195132514161448\n"
     ]
    },
    {
     "name": "stderr",
     "output_type": "stream",
     "text": [
      "Epoch is running :: 100%|██████████| 31/31 [00:10<00:00,  3.30it/s]\n",
      "Epoch is running ::   0%|          | 0/31 [00:00<?, ?it/s]"
     ]
    },
    {
     "name": "stdout",
     "output_type": "stream",
     "text": [
      "Epoch : 39 / 60, Loss : 0.07862933076197101, Val Loss : 0.07357780250810808\n"
     ]
    },
    {
     "name": "stderr",
     "output_type": "stream",
     "text": [
      "Epoch is running :: 100%|██████████| 31/31 [00:09<00:00,  3.02it/s]\n",
      "Epoch is running ::   0%|          | 0/31 [00:00<?, ?it/s]"
     ]
    },
    {
     "name": "stdout",
     "output_type": "stream",
     "text": [
      "Epoch : 40 / 60, Loss : 0.07745157566762739, Val Loss : 0.07500081052703242\n"
     ]
    },
    {
     "name": "stderr",
     "output_type": "stream",
     "text": [
      "Epoch is running :: 100%|██████████| 31/31 [00:10<00:00,  3.04it/s]\n",
      "Epoch is running ::   0%|          | 0/31 [00:00<?, ?it/s]"
     ]
    },
    {
     "name": "stdout",
     "output_type": "stream",
     "text": [
      "Epoch : 41 / 60, Loss : 0.07766619577042518, Val Loss : 0.0697359154301305\n"
     ]
    },
    {
     "name": "stderr",
     "output_type": "stream",
     "text": [
      "Epoch is running :: 100%|██████████| 31/31 [00:09<00:00,  3.26it/s]\n",
      "Epoch is running ::   0%|          | 0/31 [00:00<?, ?it/s]"
     ]
    },
    {
     "name": "stdout",
     "output_type": "stream",
     "text": [
      "Epoch : 42 / 60, Loss : 0.07558959470160546, Val Loss : 0.07008663108271937\n"
     ]
    },
    {
     "name": "stderr",
     "output_type": "stream",
     "text": [
      "Epoch is running :: 100%|██████████| 31/31 [00:10<00:00,  3.02it/s]\n",
      "Epoch is running ::   0%|          | 0/31 [00:00<?, ?it/s]"
     ]
    },
    {
     "name": "stdout",
     "output_type": "stream",
     "text": [
      "Epoch : 43 / 60, Loss : 0.07544284542241404, Val Loss : 0.06892298618631978\n"
     ]
    },
    {
     "name": "stderr",
     "output_type": "stream",
     "text": [
      "Epoch is running :: 100%|██████████| 31/31 [00:10<00:00,  3.07it/s]\n",
      "Epoch is running ::   0%|          | 0/31 [00:00<?, ?it/s]"
     ]
    },
    {
     "name": "stdout",
     "output_type": "stream",
     "text": [
      "Epoch : 44 / 60, Loss : 0.07469802710317797, Val Loss : 0.07636156173483018\n"
     ]
    },
    {
     "name": "stderr",
     "output_type": "stream",
     "text": [
      "Epoch is running :: 100%|██████████| 31/31 [00:09<00:00,  3.12it/s]\n",
      "Epoch is running ::   0%|          | 0/31 [00:00<?, ?it/s]"
     ]
    },
    {
     "name": "stdout",
     "output_type": "stream",
     "text": [
      "Epoch : 45 / 60, Loss : 0.07439190930416507, Val Loss : 0.07572047412395477\n"
     ]
    },
    {
     "name": "stderr",
     "output_type": "stream",
     "text": [
      "Epoch is running :: 100%|██████████| 31/31 [00:10<00:00,  2.95it/s]\n",
      "Epoch is running ::   0%|          | 0/31 [00:00<?, ?it/s]"
     ]
    },
    {
     "name": "stdout",
     "output_type": "stream",
     "text": [
      "Epoch : 46 / 60, Loss : 0.07397190890004558, Val Loss : 0.08026109587761664\n"
     ]
    },
    {
     "name": "stderr",
     "output_type": "stream",
     "text": [
      "Epoch is running :: 100%|██████████| 31/31 [00:10<00:00,  2.98it/s]\n",
      "Epoch is running ::   0%|          | 0/31 [00:00<?, ?it/s]"
     ]
    },
    {
     "name": "stdout",
     "output_type": "stream",
     "text": [
      "Epoch : 47 / 60, Loss : 0.0736530430374607, Val Loss : 0.07781061914659315\n"
     ]
    },
    {
     "name": "stderr",
     "output_type": "stream",
     "text": [
      "Epoch is running :: 100%|██████████| 31/31 [00:10<00:00,  3.31it/s]\n",
      "Epoch is running ::   0%|          | 0/31 [00:00<?, ?it/s]"
     ]
    },
    {
     "name": "stdout",
     "output_type": "stream",
     "text": [
      "Epoch : 48 / 60, Loss : 0.07155636914314763, Val Loss : 0.08367117854856676\n"
     ]
    },
    {
     "name": "stderr",
     "output_type": "stream",
     "text": [
      "Epoch is running :: 100%|██████████| 31/31 [00:09<00:00,  3.32it/s]\n",
      "Epoch is running ::   0%|          | 0/31 [00:00<?, ?it/s]"
     ]
    },
    {
     "name": "stdout",
     "output_type": "stream",
     "text": [
      "Epoch : 49 / 60, Loss : 0.07440440116390105, Val Loss : 0.08102402331367616\n"
     ]
    },
    {
     "name": "stderr",
     "output_type": "stream",
     "text": [
      "Epoch is running :: 100%|██████████| 31/31 [00:10<00:00,  3.04it/s]\n",
      "Epoch is running ::   0%|          | 0/31 [00:00<?, ?it/s]"
     ]
    },
    {
     "name": "stdout",
     "output_type": "stream",
     "text": [
      "Epoch : 50 / 60, Loss : 0.07782990461395632, Val Loss : 0.07014665632478653\n"
     ]
    },
    {
     "name": "stderr",
     "output_type": "stream",
     "text": [
      "Epoch is running :: 100%|██████████| 31/31 [00:10<00:00,  3.02it/s]\n",
      "Epoch is running ::   0%|          | 0/31 [00:00<?, ?it/s]"
     ]
    },
    {
     "name": "stdout",
     "output_type": "stream",
     "text": [
      "Epoch : 51 / 60, Loss : 0.07626517273245319, Val Loss : 0.0741186353468126\n"
     ]
    },
    {
     "name": "stderr",
     "output_type": "stream",
     "text": [
      "Epoch is running :: 100%|██████████| 31/31 [00:09<00:00,  2.97it/s]\n",
      "Epoch is running ::   0%|          | 0/31 [00:00<?, ?it/s]"
     ]
    },
    {
     "name": "stdout",
     "output_type": "stream",
     "text": [
      "Epoch : 52 / 60, Loss : 0.07579019016796543, Val Loss : 0.07029182247577175\n"
     ]
    },
    {
     "name": "stderr",
     "output_type": "stream",
     "text": [
      "Epoch is running :: 100%|██████████| 31/31 [00:10<00:00,  3.07it/s]\n",
      "Epoch is running ::   0%|          | 0/31 [00:00<?, ?it/s]"
     ]
    },
    {
     "name": "stdout",
     "output_type": "stream",
     "text": [
      "Epoch : 53 / 60, Loss : 0.07227848506262226, Val Loss : 0.08018392468652419\n"
     ]
    },
    {
     "name": "stderr",
     "output_type": "stream",
     "text": [
      "Epoch is running :: 100%|██████████| 31/31 [00:09<00:00,  3.08it/s]\n",
      "Epoch is running ::   0%|          | 0/31 [00:00<?, ?it/s]"
     ]
    },
    {
     "name": "stdout",
     "output_type": "stream",
     "text": [
      "Epoch : 54 / 60, Loss : 0.07065111002133738, Val Loss : 0.07669171859179774\n"
     ]
    },
    {
     "name": "stderr",
     "output_type": "stream",
     "text": [
      "Epoch is running :: 100%|██████████| 31/31 [00:10<00:00,  3.08it/s]\n",
      "Epoch is running ::   0%|          | 0/31 [00:00<?, ?it/s]"
     ]
    },
    {
     "name": "stdout",
     "output_type": "stream",
     "text": [
      "Epoch : 55 / 60, Loss : 0.07179860914907148, Val Loss : 0.07636387261652178\n"
     ]
    },
    {
     "name": "stderr",
     "output_type": "stream",
     "text": [
      "Epoch is running :: 100%|██████████| 31/31 [00:09<00:00,  3.10it/s]\n",
      "Epoch is running ::   0%|          | 0/31 [00:00<?, ?it/s]"
     ]
    },
    {
     "name": "stdout",
     "output_type": "stream",
     "text": [
      "Epoch : 56 / 60, Loss : 0.06912634870217692, Val Loss : 0.0757250742566201\n"
     ]
    },
    {
     "name": "stderr",
     "output_type": "stream",
     "text": [
      "Epoch is running :: 100%|██████████| 31/31 [00:09<00:00,  3.27it/s]\n",
      "Epoch is running ::   0%|          | 0/31 [00:00<?, ?it/s]"
     ]
    },
    {
     "name": "stdout",
     "output_type": "stream",
     "text": [
      "Epoch : 57 / 60, Loss : 0.06825391611745281, Val Loss : 0.0718832015991211\n"
     ]
    },
    {
     "name": "stderr",
     "output_type": "stream",
     "text": [
      "Epoch is running :: 100%|██████████| 31/31 [00:10<00:00,  3.08it/s]\n",
      "Epoch is running ::   0%|          | 0/31 [00:00<?, ?it/s]"
     ]
    },
    {
     "name": "stdout",
     "output_type": "stream",
     "text": [
      "Epoch : 58 / 60, Loss : 0.06629131662268792, Val Loss : 0.0713077944613272\n"
     ]
    },
    {
     "name": "stderr",
     "output_type": "stream",
     "text": [
      "Epoch is running :: 100%|██████████| 31/31 [00:09<00:00,  3.33it/s]\n",
      "Epoch is running ::   0%|          | 0/31 [00:00<?, ?it/s]"
     ]
    },
    {
     "name": "stdout",
     "output_type": "stream",
     "text": [
      "Epoch : 59 / 60, Loss : 0.06563807711485893, Val Loss : 0.07590602482518842\n"
     ]
    },
    {
     "name": "stderr",
     "output_type": "stream",
     "text": [
      "Epoch is running :: 100%|██████████| 31/31 [00:10<00:00,  3.05it/s]\n"
     ]
    },
    {
     "name": "stdout",
     "output_type": "stream",
     "text": [
      "Epoch : 60 / 60, Loss : 0.06337650144292463, Val Loss : 0.0766507920718962\n"
     ]
    }
   ],
   "source": [
    "epochs = 60\n",
    "batch_size = 16\n",
    "total_batches = train.shape[0] // batch_size\n",
    "\n",
    "criterion = DiceBCELoss()\n",
    "\n",
    "history = []\n",
    "dev_history = []\n",
    "device = \"cuda\"\n",
    "\n",
    "for k in range(1, epochs + 1):\n",
    "    total_loss = 0\n",
    "    total_dev_loss = 0\n",
    "    c = 0\n",
    "    for i in tqdm(range(1, total_batches + 1), \"Epoch is running :\"):\n",
    "      \n",
    "      optimizer.zero_grad() \n",
    "        \n",
    "      # Creating input and label for both training and validation set\n",
    "      inp = np.zeros((batch_size, X[0].shape[0], X[0].shape[1], X[0].shape[2]))\n",
    "      label = np.zeros((batch_size, y[0].shape[0], y[0].shape[1]))\n",
    "      for b in range(batch_size):\n",
    "            inp[b] = X[train[c]]\n",
    "            label[b] = y[train[c]]\n",
    "            c += 1\n",
    "    \n",
    "            \n",
    "      inp = (torch.from_numpy(inp))\n",
    "      inp = inp.permute(0, 3, 1, 2).float().to(device)\n",
    "      label = torch.from_numpy(label)\n",
    "            \n",
    "      # Generating outputs  \n",
    "      outputs = unet_plus(inp)\n",
    "    \n",
    "      outputs = outputs.float().to(device)\n",
    "      label = label.type(torch.LongTensor).to(device)\n",
    "      label = F.one_hot(label, num_classes = 2).permute(0, 3, 1, 2)\n",
    "\n",
    "      # Calculating loss\n",
    "      loss = criterion(outputs, label)\n",
    "      loss.backward()\n",
    "      total_loss += float(loss.item())\n",
    "      optimizer.step()\n",
    "        \n",
    "    total_loss /= total_batches\n",
    "    history.append(total_loss)\n",
    "    \n",
    "    # Calculate validation loss\n",
    "    c1 = 0\n",
    "    for v in range(1, val.shape[0] // batch_size + 1):\n",
    "        dev_input = np.zeros((batch_size, X[0].shape[0], X[0].shape[1], X[0].shape[2]))\n",
    "        dev_label = np.zeros((batch_size, y[0].shape[0], y[0].shape[1]))\n",
    "        for b in range(batch_size):\n",
    "            dev_input[b] = X[val[c1]]\n",
    "            dev_label[b] = y[val[c1]]\n",
    "            c1 += 1\n",
    "            \n",
    "        dev_input = torch.from_numpy(dev_input)\n",
    "        dev_input = dev_input.permute(0, 3, 1, 2).float().to(device)\n",
    "        dev_label = torch.from_numpy(dev_label)\n",
    "        \n",
    "        dev_output = unet_plus(dev_input)\n",
    "        \n",
    "        dev_output = dev_output.float().to(device)\n",
    "        dev_label = dev_label.type(torch.LongTensor).to(device)\n",
    "        dev_label = F.one_hot(dev_label, num_classes = 2).permute(0, 3, 1, 2)\n",
    "        \n",
    "        dev_loss = criterion(dev_output, dev_label)\n",
    "        total_dev_loss += float(dev_loss.item())\n",
    "    \n",
    "    total_dev_loss /= total_batches\n",
    "    dev_history.append(total_dev_loss * 10)\n",
    "    \n",
    "    # Print details\n",
    "    print('Epoch : ' + str(k) +  ' / ' + str(epochs) + ', Loss : ' + str(total_loss) + ', Val Loss : ' + str(total_dev_loss * 10))"
   ]
  },
  {
   "cell_type": "code",
   "execution_count": 15,
   "metadata": {},
   "outputs": [],
   "source": [
    "# torch.save(unet_plus.module.state_dict(), 'unet_plus-cell')"
   ]
  },
  {
   "cell_type": "code",
   "execution_count": 11,
   "metadata": {},
   "outputs": [
    {
     "data": {
      "text/plain": [
       "UNet_Nested(\n",
       "  (maxpool): MaxPool2d(kernel_size=2, stride=2, padding=0, dilation=1, ceil_mode=False)\n",
       "  (conv00): unetConv2(\n",
       "    (conv1): Sequential(\n",
       "      (0): Conv2d(3, 32, kernel_size=(3, 3), stride=(1, 1), padding=(1, 1))\n",
       "      (1): BatchNorm2d(32, eps=1e-05, momentum=0.1, affine=True, track_running_stats=True)\n",
       "      (2): ReLU(inplace=True)\n",
       "    )\n",
       "    (conv2): Sequential(\n",
       "      (0): Conv2d(32, 32, kernel_size=(3, 3), stride=(1, 1), padding=(1, 1))\n",
       "      (1): BatchNorm2d(32, eps=1e-05, momentum=0.1, affine=True, track_running_stats=True)\n",
       "      (2): ReLU(inplace=True)\n",
       "    )\n",
       "  )\n",
       "  (conv10): unetConv2(\n",
       "    (conv1): Sequential(\n",
       "      (0): Conv2d(32, 64, kernel_size=(3, 3), stride=(1, 1), padding=(1, 1))\n",
       "      (1): BatchNorm2d(64, eps=1e-05, momentum=0.1, affine=True, track_running_stats=True)\n",
       "      (2): ReLU(inplace=True)\n",
       "    )\n",
       "    (conv2): Sequential(\n",
       "      (0): Conv2d(64, 64, kernel_size=(3, 3), stride=(1, 1), padding=(1, 1))\n",
       "      (1): BatchNorm2d(64, eps=1e-05, momentum=0.1, affine=True, track_running_stats=True)\n",
       "      (2): ReLU(inplace=True)\n",
       "    )\n",
       "  )\n",
       "  (conv20): unetConv2(\n",
       "    (conv1): Sequential(\n",
       "      (0): Conv2d(64, 128, kernel_size=(3, 3), stride=(1, 1), padding=(1, 1))\n",
       "      (1): BatchNorm2d(128, eps=1e-05, momentum=0.1, affine=True, track_running_stats=True)\n",
       "      (2): ReLU(inplace=True)\n",
       "    )\n",
       "    (conv2): Sequential(\n",
       "      (0): Conv2d(128, 128, kernel_size=(3, 3), stride=(1, 1), padding=(1, 1))\n",
       "      (1): BatchNorm2d(128, eps=1e-05, momentum=0.1, affine=True, track_running_stats=True)\n",
       "      (2): ReLU(inplace=True)\n",
       "    )\n",
       "  )\n",
       "  (conv30): unetConv2(\n",
       "    (conv1): Sequential(\n",
       "      (0): Conv2d(128, 256, kernel_size=(3, 3), stride=(1, 1), padding=(1, 1))\n",
       "      (1): BatchNorm2d(256, eps=1e-05, momentum=0.1, affine=True, track_running_stats=True)\n",
       "      (2): ReLU(inplace=True)\n",
       "    )\n",
       "    (conv2): Sequential(\n",
       "      (0): Conv2d(256, 256, kernel_size=(3, 3), stride=(1, 1), padding=(1, 1))\n",
       "      (1): BatchNorm2d(256, eps=1e-05, momentum=0.1, affine=True, track_running_stats=True)\n",
       "      (2): ReLU(inplace=True)\n",
       "    )\n",
       "  )\n",
       "  (conv40): unetConv2(\n",
       "    (conv1): Sequential(\n",
       "      (0): Conv2d(256, 512, kernel_size=(3, 3), stride=(1, 1), padding=(1, 1))\n",
       "      (1): BatchNorm2d(512, eps=1e-05, momentum=0.1, affine=True, track_running_stats=True)\n",
       "      (2): ReLU(inplace=True)\n",
       "    )\n",
       "    (conv2): Sequential(\n",
       "      (0): Conv2d(512, 512, kernel_size=(3, 3), stride=(1, 1), padding=(1, 1))\n",
       "      (1): BatchNorm2d(512, eps=1e-05, momentum=0.1, affine=True, track_running_stats=True)\n",
       "      (2): ReLU(inplace=True)\n",
       "    )\n",
       "  )\n",
       "  (up_concat01): unetUp(\n",
       "    (conv): unetConv2(\n",
       "      (conv1): Sequential(\n",
       "        (0): Conv2d(64, 32, kernel_size=(3, 3), stride=(1, 1), padding=(1, 1))\n",
       "        (1): ReLU(inplace=True)\n",
       "      )\n",
       "      (conv2): Sequential(\n",
       "        (0): Conv2d(32, 32, kernel_size=(3, 3), stride=(1, 1), padding=(1, 1))\n",
       "        (1): ReLU(inplace=True)\n",
       "      )\n",
       "    )\n",
       "    (up): ConvTranspose2d(64, 32, kernel_size=(2, 2), stride=(2, 2))\n",
       "  )\n",
       "  (up_concat11): unetUp(\n",
       "    (conv): unetConv2(\n",
       "      (conv1): Sequential(\n",
       "        (0): Conv2d(128, 64, kernel_size=(3, 3), stride=(1, 1), padding=(1, 1))\n",
       "        (1): ReLU(inplace=True)\n",
       "      )\n",
       "      (conv2): Sequential(\n",
       "        (0): Conv2d(64, 64, kernel_size=(3, 3), stride=(1, 1), padding=(1, 1))\n",
       "        (1): ReLU(inplace=True)\n",
       "      )\n",
       "    )\n",
       "    (up): ConvTranspose2d(128, 64, kernel_size=(2, 2), stride=(2, 2))\n",
       "  )\n",
       "  (up_concat21): unetUp(\n",
       "    (conv): unetConv2(\n",
       "      (conv1): Sequential(\n",
       "        (0): Conv2d(256, 128, kernel_size=(3, 3), stride=(1, 1), padding=(1, 1))\n",
       "        (1): ReLU(inplace=True)\n",
       "      )\n",
       "      (conv2): Sequential(\n",
       "        (0): Conv2d(128, 128, kernel_size=(3, 3), stride=(1, 1), padding=(1, 1))\n",
       "        (1): ReLU(inplace=True)\n",
       "      )\n",
       "    )\n",
       "    (up): ConvTranspose2d(256, 128, kernel_size=(2, 2), stride=(2, 2))\n",
       "  )\n",
       "  (up_concat31): unetUp(\n",
       "    (conv): unetConv2(\n",
       "      (conv1): Sequential(\n",
       "        (0): Conv2d(512, 256, kernel_size=(3, 3), stride=(1, 1), padding=(1, 1))\n",
       "        (1): ReLU(inplace=True)\n",
       "      )\n",
       "      (conv2): Sequential(\n",
       "        (0): Conv2d(256, 256, kernel_size=(3, 3), stride=(1, 1), padding=(1, 1))\n",
       "        (1): ReLU(inplace=True)\n",
       "      )\n",
       "    )\n",
       "    (up): ConvTranspose2d(512, 256, kernel_size=(2, 2), stride=(2, 2))\n",
       "  )\n",
       "  (up_concat02): unetUp(\n",
       "    (conv): unetConv2(\n",
       "      (conv1): Sequential(\n",
       "        (0): Conv2d(96, 32, kernel_size=(3, 3), stride=(1, 1), padding=(1, 1))\n",
       "        (1): ReLU(inplace=True)\n",
       "      )\n",
       "      (conv2): Sequential(\n",
       "        (0): Conv2d(32, 32, kernel_size=(3, 3), stride=(1, 1), padding=(1, 1))\n",
       "        (1): ReLU(inplace=True)\n",
       "      )\n",
       "    )\n",
       "    (up): ConvTranspose2d(64, 32, kernel_size=(2, 2), stride=(2, 2))\n",
       "  )\n",
       "  (up_concat12): unetUp(\n",
       "    (conv): unetConv2(\n",
       "      (conv1): Sequential(\n",
       "        (0): Conv2d(192, 64, kernel_size=(3, 3), stride=(1, 1), padding=(1, 1))\n",
       "        (1): ReLU(inplace=True)\n",
       "      )\n",
       "      (conv2): Sequential(\n",
       "        (0): Conv2d(64, 64, kernel_size=(3, 3), stride=(1, 1), padding=(1, 1))\n",
       "        (1): ReLU(inplace=True)\n",
       "      )\n",
       "    )\n",
       "    (up): ConvTranspose2d(128, 64, kernel_size=(2, 2), stride=(2, 2))\n",
       "  )\n",
       "  (up_concat22): unetUp(\n",
       "    (conv): unetConv2(\n",
       "      (conv1): Sequential(\n",
       "        (0): Conv2d(384, 128, kernel_size=(3, 3), stride=(1, 1), padding=(1, 1))\n",
       "        (1): ReLU(inplace=True)\n",
       "      )\n",
       "      (conv2): Sequential(\n",
       "        (0): Conv2d(128, 128, kernel_size=(3, 3), stride=(1, 1), padding=(1, 1))\n",
       "        (1): ReLU(inplace=True)\n",
       "      )\n",
       "    )\n",
       "    (up): ConvTranspose2d(256, 128, kernel_size=(2, 2), stride=(2, 2))\n",
       "  )\n",
       "  (up_concat03): unetUp(\n",
       "    (conv): unetConv2(\n",
       "      (conv1): Sequential(\n",
       "        (0): Conv2d(128, 32, kernel_size=(3, 3), stride=(1, 1), padding=(1, 1))\n",
       "        (1): ReLU(inplace=True)\n",
       "      )\n",
       "      (conv2): Sequential(\n",
       "        (0): Conv2d(32, 32, kernel_size=(3, 3), stride=(1, 1), padding=(1, 1))\n",
       "        (1): ReLU(inplace=True)\n",
       "      )\n",
       "    )\n",
       "    (up): ConvTranspose2d(64, 32, kernel_size=(2, 2), stride=(2, 2))\n",
       "  )\n",
       "  (up_concat13): unetUp(\n",
       "    (conv): unetConv2(\n",
       "      (conv1): Sequential(\n",
       "        (0): Conv2d(256, 64, kernel_size=(3, 3), stride=(1, 1), padding=(1, 1))\n",
       "        (1): ReLU(inplace=True)\n",
       "      )\n",
       "      (conv2): Sequential(\n",
       "        (0): Conv2d(64, 64, kernel_size=(3, 3), stride=(1, 1), padding=(1, 1))\n",
       "        (1): ReLU(inplace=True)\n",
       "      )\n",
       "    )\n",
       "    (up): ConvTranspose2d(128, 64, kernel_size=(2, 2), stride=(2, 2))\n",
       "  )\n",
       "  (up_concat04): unetUp(\n",
       "    (conv): unetConv2(\n",
       "      (conv1): Sequential(\n",
       "        (0): Conv2d(160, 32, kernel_size=(3, 3), stride=(1, 1), padding=(1, 1))\n",
       "        (1): ReLU(inplace=True)\n",
       "      )\n",
       "      (conv2): Sequential(\n",
       "        (0): Conv2d(32, 32, kernel_size=(3, 3), stride=(1, 1), padding=(1, 1))\n",
       "        (1): ReLU(inplace=True)\n",
       "      )\n",
       "    )\n",
       "    (up): ConvTranspose2d(64, 32, kernel_size=(2, 2), stride=(2, 2))\n",
       "  )\n",
       "  (final_1): Conv2d(32, 2, kernel_size=(1, 1), stride=(1, 1))\n",
       "  (final_2): Conv2d(32, 2, kernel_size=(1, 1), stride=(1, 1))\n",
       "  (final_3): Conv2d(32, 2, kernel_size=(1, 1), stride=(1, 1))\n",
       "  (final_4): Conv2d(32, 2, kernel_size=(1, 1), stride=(1, 1))\n",
       "  (softmax): Softmax(dim=1)\n",
       ")"
      ]
     },
     "execution_count": 11,
     "metadata": {},
     "output_type": "execute_result"
    }
   ],
   "source": [
    "# Loading the UNet++ model\n",
    "device = torch.device(\"cuda\")\n",
    "unet_plus = UNet_Nested(in_channels = 3, n_classes = 2)\n",
    "unet_plus.load_state_dict(torch.load('unet_plus-cell'))\n",
    "unet_plus.to(device)"
   ]
  },
  {
   "cell_type": "code",
   "execution_count": 12,
   "metadata": {
    "scrolled": true
   },
   "outputs": [
    {
     "data": {
      "text/plain": [
       "UNet(\n",
       "  (conv_encode1): Sequential(\n",
       "    (0): Conv2d(3, 64, kernel_size=(3, 3), stride=(1, 1))\n",
       "    (1): ReLU()\n",
       "    (2): BatchNorm2d(64, eps=1e-05, momentum=0.1, affine=True, track_running_stats=True)\n",
       "    (3): Conv2d(64, 64, kernel_size=(3, 3), stride=(1, 1))\n",
       "    (4): ReLU()\n",
       "    (5): BatchNorm2d(64, eps=1e-05, momentum=0.1, affine=True, track_running_stats=True)\n",
       "  )\n",
       "  (conv_maxpool1): MaxPool2d(kernel_size=2, stride=2, padding=0, dilation=1, ceil_mode=False)\n",
       "  (conv_encode2): Sequential(\n",
       "    (0): Conv2d(64, 128, kernel_size=(3, 3), stride=(1, 1))\n",
       "    (1): ReLU()\n",
       "    (2): BatchNorm2d(128, eps=1e-05, momentum=0.1, affine=True, track_running_stats=True)\n",
       "    (3): Conv2d(128, 128, kernel_size=(3, 3), stride=(1, 1))\n",
       "    (4): ReLU()\n",
       "    (5): BatchNorm2d(128, eps=1e-05, momentum=0.1, affine=True, track_running_stats=True)\n",
       "  )\n",
       "  (conv_maxpool2): MaxPool2d(kernel_size=2, stride=2, padding=0, dilation=1, ceil_mode=False)\n",
       "  (conv_encode3): Sequential(\n",
       "    (0): Conv2d(128, 256, kernel_size=(3, 3), stride=(1, 1))\n",
       "    (1): ReLU()\n",
       "    (2): BatchNorm2d(256, eps=1e-05, momentum=0.1, affine=True, track_running_stats=True)\n",
       "    (3): Conv2d(256, 256, kernel_size=(3, 3), stride=(1, 1))\n",
       "    (4): ReLU()\n",
       "    (5): BatchNorm2d(256, eps=1e-05, momentum=0.1, affine=True, track_running_stats=True)\n",
       "  )\n",
       "  (conv_maxpool3): MaxPool2d(kernel_size=2, stride=2, padding=0, dilation=1, ceil_mode=False)\n",
       "  (bottleneck): Sequential(\n",
       "    (0): Conv2d(256, 512, kernel_size=(3, 3), stride=(1, 1), padding=(1, 1))\n",
       "    (1): ReLU()\n",
       "    (2): BatchNorm2d(512, eps=1e-05, momentum=0.1, affine=True, track_running_stats=True)\n",
       "    (3): Conv2d(512, 512, kernel_size=(3, 3), stride=(1, 1), padding=(1, 1))\n",
       "    (4): ReLU()\n",
       "    (5): BatchNorm2d(512, eps=1e-05, momentum=0.1, affine=True, track_running_stats=True)\n",
       "    (6): ConvTranspose2d(512, 256, kernel_size=(3, 3), stride=(1, 1), padding=(1, 1))\n",
       "  )\n",
       "  (conv_decode3): Sequential(\n",
       "    (0): Conv2d(512, 256, kernel_size=(3, 3), stride=(1, 1), padding=(1, 1))\n",
       "    (1): ReLU()\n",
       "    (2): BatchNorm2d(256, eps=1e-05, momentum=0.1, affine=True, track_running_stats=True)\n",
       "    (3): Conv2d(256, 256, kernel_size=(3, 3), stride=(1, 1), padding=(1, 1))\n",
       "    (4): ReLU()\n",
       "    (5): BatchNorm2d(256, eps=1e-05, momentum=0.1, affine=True, track_running_stats=True)\n",
       "    (6): Conv2d(256, 128, kernel_size=(3, 3), stride=(1, 1), padding=(1, 1))\n",
       "    (7): ReLU()\n",
       "    (8): BatchNorm2d(128, eps=1e-05, momentum=0.1, affine=True, track_running_stats=True)\n",
       "  )\n",
       "  (conv_decode2): Sequential(\n",
       "    (0): Conv2d(256, 128, kernel_size=(3, 3), stride=(1, 1), padding=(1, 1))\n",
       "    (1): ReLU()\n",
       "    (2): BatchNorm2d(128, eps=1e-05, momentum=0.1, affine=True, track_running_stats=True)\n",
       "    (3): Conv2d(128, 128, kernel_size=(3, 3), stride=(1, 1), padding=(1, 1))\n",
       "    (4): ReLU()\n",
       "    (5): BatchNorm2d(128, eps=1e-05, momentum=0.1, affine=True, track_running_stats=True)\n",
       "    (6): Conv2d(128, 64, kernel_size=(3, 3), stride=(1, 1), padding=(1, 1))\n",
       "    (7): ReLU()\n",
       "    (8): BatchNorm2d(64, eps=1e-05, momentum=0.1, affine=True, track_running_stats=True)\n",
       "  )\n",
       "  (final_layer): Sequential(\n",
       "    (0): Conv2d(128, 64, kernel_size=(3, 3), stride=(1, 1), padding=(1, 1))\n",
       "    (1): ReLU()\n",
       "    (2): BatchNorm2d(64, eps=1e-05, momentum=0.1, affine=True, track_running_stats=True)\n",
       "    (3): Conv2d(64, 64, kernel_size=(3, 3), stride=(1, 1), padding=(1, 1))\n",
       "    (4): ReLU()\n",
       "    (5): BatchNorm2d(64, eps=1e-05, momentum=0.1, affine=True, track_running_stats=True)\n",
       "    (6): Conv2d(64, 2, kernel_size=(3, 3), stride=(1, 1), padding=(1, 1))\n",
       "    (7): ReLU()\n",
       "    (8): BatchNorm2d(2, eps=1e-05, momentum=0.1, affine=True, track_running_stats=True)\n",
       "    (9): Conv2d(2, 2, kernel_size=(3, 3), stride=(1, 1), padding=(3, 3))\n",
       "    (10): ReLU()\n",
       "    (11): BatchNorm2d(2, eps=1e-05, momentum=0.1, affine=True, track_running_stats=True)\n",
       "    (12): Softmax(dim=1)\n",
       "  )\n",
       ")"
      ]
     },
     "execution_count": 12,
     "metadata": {},
     "output_type": "execute_result"
    }
   ],
   "source": [
    "# Loading the UNet model\n",
    "device = torch.device(\"cuda\")\n",
    "unet = UNet(in_channel = 3, out_channel = 2)\n",
    "unet.load_state_dict(torch.load('unet-cell'))\n",
    "unet.to(device)"
   ]
  },
  {
   "cell_type": "markdown",
   "metadata": {},
   "source": [
    "# Visualizing Results"
   ]
  },
  {
   "cell_type": "code",
   "execution_count": 16,
   "metadata": {},
   "outputs": [
    {
     "data": {
      "image/png": "[encoded data removed]",
      "text/plain": [
       "<Figure size 432x288 with 1 Axes>"
      ]
     },
     "metadata": {
      "needs_background": "light"
     },
     "output_type": "display_data"
    }
   ],
   "source": [
    "epoch = np.arange(1, 61)\n",
    "plt.plot(epoch, history)\n",
    "plt.plot(epoch, dev_history)\n",
    "plt.xlabel('Epochs')\n",
    "plt.ylabel('DiceBCELoss')\n",
    "plt.title('Loss in UNet (Cell Dataset)')\n",
    "plt.legend(['train', 'val'])\n",
    "plt.show()"
   ]
  },
  {
   "cell_type": "markdown",
   "metadata": {},
   "source": [
    "# UNet and UNet++ Result"
   ]
  },
  {
   "cell_type": "code",
   "execution_count": 35,
   "metadata": {},
   "outputs": [],
   "source": [
    "k = 49\n",
    "a = test[k]\n",
    "\n",
    "inp = torch.from_numpy(X[a])\n",
    "inp = torch.unsqueeze(inp, 0).to(device).permute(0, 3, 1, 2)\n",
    "\n",
    "outputs_plus = unet_plus(inp.float())\n",
    "outputs_plus = torch.argmax(outputs_plus, dim = 1).cpu()\n",
    "outputs_plus = torch.squeeze(outputs_plus, 0)\n",
    "output_plus = F.one_hot(outputs_plus, num_classes = 2)\n",
    "\n",
    "outputs = unet(inp.float())\n",
    "outputs = torch.argmax(outputs, dim = 1).cpu()\n",
    "outputs = torch.squeeze(outputs, 0)\n",
    "output = F.one_hot(outputs, num_classes = 2)\n",
    "\n",
    "label = y[a]\n",
    "out = np.zeros((256, 256, 2))\n",
    "for i in range(label.shape[0]):\n",
    "  for j in range(label.shape[1]):\n",
    "    if label[i][j] == 0:\n",
    "      out[i][j][0] = 1\n",
    "    elif label[i][j] == 1:\n",
    "      out[i][j][1] = 1\n",
    "    if label[i][j] == 2:\n",
    "      out[i][j][2] = 1\n",
    "    if label[i][j] == 3:\n",
    "      out[i][j][3] = 1"
   ]
  },
  {
   "cell_type": "code",
   "execution_count": 36,
   "metadata": {
    "scrolled": true
   },
   "outputs": [
    {
     "data": {
      "text/plain": [
       "Text(0.5, 1.0, 'Input Image')"
      ]
     },
     "execution_count": 36,
     "metadata": {},
     "output_type": "execute_result"
    },
    {
     "data": {
      "image/png": "[encoded data removed]",
      "text/plain": [
       "<Figure size 432x288 with 1 Axes>"
      ]
     },
     "metadata": {
      "needs_background": "light"
     },
     "output_type": "display_data"
    }
   ],
   "source": [
    "plt.imshow(X[a])\n",
    "plt.title('Input Image')"
   ]
  },
  {
   "cell_type": "code",
   "execution_count": 37,
   "metadata": {},
   "outputs": [
    {
     "data": {
      "text/plain": [
       "Text(0.5, 1.0, 'Cells (Ground Truth)')"
      ]
     },
     "execution_count": 37,
     "metadata": {},
     "output_type": "execute_result"
    },
    {
     "data": {
      "image/png": "[encoded data removed]",
      "text/plain": [
       "<Figure size 1080x1080 with 6 Axes>"
      ]
     },
     "metadata": {
      "needs_background": "light"
     },
     "output_type": "display_data"
    }
   ],
   "source": [
    "h, m = cv2.split(np.array(output))\n",
    "h_, m_ = cv2.split(np.array(output_plus))\n",
    "h1, m1 = cv2.split(np.array(out))\n",
    "\n",
    "f, ax = plt.subplots(2, 3, figsize = (15, 15))\n",
    "ax[0, 0].imshow(h, cmap = 'jet')\n",
    "ax[0, 0].set_title('Background (UNet)')\n",
    "ax[0, 1].imshow(h_, cmap = 'jet')\n",
    "ax[0, 1].set_title('Background (UNet++)')\n",
    "ax[0, 2].imshow(h1, cmap = 'jet')\n",
    "ax[0, 2].set_title('Background (Ground Truth)')\n",
    "\n",
    "ax[1, 0].imshow(m, cmap = 'jet')\n",
    "ax[1, 0].set_title('Cells (UNet)')\n",
    "ax[1, 1].imshow(m_, cmap = 'jet')\n",
    "ax[1, 1].set_title('Cells (UNet++)')\n",
    "ax[1, 2].imshow(m1, cmap = 'jet')\n",
    "ax[1, 2].set_title('Cells (Ground Truth)')"
   ]
  },
  {
   "cell_type": "markdown",
   "metadata": {},
   "source": [
    "# Metric Evaluation on Test Set"
   ]
  },
  {
   "cell_type": "code",
   "execution_count": 83,
   "metadata": {},
   "outputs": [],
   "source": [
    "def iou_score(output, target):\n",
    "    smooth = 1e-5\n",
    "\n",
    "    if torch.is_tensor(output):\n",
    "        output = torch.sigmoid(output).data.cpu().numpy()\n",
    "    if torch.is_tensor(target):\n",
    "        target = target.data.cpu().numpy()\n",
    "    output_ = output > 0.5\n",
    "    target_ = target > 0.5\n",
    "    intersection = (output_ & target_).sum()\n",
    "    union = (output_ | target_).sum()\n",
    "\n",
    "    return (intersection + smooth) / (union + smooth)\n",
    "\n",
    "def accuracy(outputs, target):\n",
    "    outputs = F.one_hot(torch.argmax(outputs, dim = 2), num_classes = 2)\n",
    "    a = np.count_nonzero(np.equal(outputs.detach().cpu(), target))\n",
    "    b = outputs.shape[0] * outputs.shape[1] * outputs.shape[2]\n",
    "    return (a / b) * 100"
   ]
  },
  {
   "cell_type": "code",
   "execution_count": 88,
   "metadata": {},
   "outputs": [
    {
     "name": "stdout",
     "output_type": "stream",
     "text": [
      "1\n",
      "2\n",
      "3\n",
      "4\n",
      "5\n",
      "6\n",
      "7\n",
      "8\n",
      "9\n",
      "10\n",
      "11\n",
      "12\n",
      "13\n",
      "14\n",
      "15\n",
      "16\n",
      "17\n",
      "18\n",
      "19\n",
      "20\n",
      "21\n",
      "22\n",
      "23\n",
      "24\n",
      "25\n",
      "26\n",
      "27\n",
      "28\n",
      "29\n",
      "30\n",
      "31\n",
      "32\n",
      "33\n",
      "34\n",
      "35\n",
      "36\n",
      "37\n",
      "38\n",
      "39\n",
      "40\n",
      "41\n",
      "42\n",
      "43\n",
      "44\n",
      "45\n",
      "46\n",
      "47\n",
      "48\n",
      "49\n",
      "50\n",
      "51\n",
      "52\n",
      "53\n",
      "54\n",
      "55\n",
      "56\n",
      "57\n",
      "58\n",
      "59\n",
      "60\n",
      "61\n",
      "62\n",
      "63\n",
      "64\n",
      "65\n",
      "66\n",
      "67\n",
      "68\n",
      "69\n",
      "70\n",
      "71\n",
      "72\n",
      "73\n",
      "74\n",
      "75\n",
      "76\n",
      "77\n",
      "78\n",
      "79\n",
      "80\n",
      "81\n",
      "82\n",
      "83\n",
      "84\n",
      "85\n",
      "86\n",
      "87\n",
      "88\n",
      "89\n",
      "90\n",
      "91\n",
      "92\n",
      "93\n",
      "94\n",
      "95\n",
      "96\n",
      "97\n",
      "98\n",
      "99\n",
      "100\n",
      "101\n",
      "102\n",
      "103\n",
      "104\n",
      "105\n",
      "106\n",
      "107\n",
      "108\n",
      "109\n",
      "110\n",
      "111\n",
      "112\n",
      "113\n",
      "114\n",
      "115\n",
      "116\n",
      "117\n",
      "118\n",
      "119\n",
      "120\n"
     ]
    }
   ],
   "source": [
    "total_iou_score = 0\n",
    "total_accuracy = 0\n",
    "total_loss = 0\n",
    "c = 0\n",
    "\n",
    "for i in range(test.shape[0]):\n",
    "    c += 1\n",
    "    print(c)\n",
    "    a = test[i]\n",
    "    inp = torch.from_numpy(X[a])\n",
    "    inp = torch.unsqueeze(inp, 0).to(device).permute(0, 3, 1, 2)\n",
    "    outputs = unet(inp.float())\n",
    "    outputs = torch.squeeze(outputs, 0).permute(1, 2, 0)\n",
    "\n",
    "    label = y[a]\n",
    "    out = np.zeros((label.shape[0], label.shape[1], 2))\n",
    "    for i in range(label.shape[0]):\n",
    "      for j in range(label.shape[1]):\n",
    "        if label[i][j] == 0:\n",
    "          out[i][j][0] = 1\n",
    "        elif label[i][j] == 1:\n",
    "          out[i][j][1] = 1\n",
    "        if label[i][j] == 2:\n",
    "          out[i][j][2] = 1\n",
    "        if label[i][j] == 3:\n",
    "          out[i][j][3] = 1\n",
    "\n",
    "    total_iou_score += iou_score(outputs, out)\n",
    "    total_accuracy += accuracy(outputs, out)\n",
    "    total_loss += criterion(outputs.to(device), torch.from_numpy(out).to(device)).item()\n",
    "    \n",
    "total_iou_score /= 613\n",
    "total_accuracy /= 613\n",
    "total_loss /= 613"
   ]
  },
  {
   "cell_type": "code",
   "execution_count": 99,
   "metadata": {},
   "outputs": [
    {
     "name": "stdout",
     "output_type": "stream",
     "text": [
      "1\n",
      "2\n",
      "3\n",
      "4\n",
      "5\n",
      "6\n",
      "7\n",
      "8\n",
      "9\n",
      "10\n",
      "11\n",
      "12\n",
      "13\n",
      "14\n",
      "15\n",
      "16\n",
      "17\n",
      "18\n",
      "19\n",
      "20\n",
      "21\n",
      "22\n",
      "23\n",
      "24\n",
      "25\n",
      "26\n",
      "27\n",
      "28\n",
      "29\n",
      "30\n",
      "31\n",
      "32\n",
      "33\n",
      "34\n",
      "35\n",
      "36\n",
      "37\n",
      "38\n",
      "39\n",
      "40\n",
      "41\n",
      "42\n",
      "43\n",
      "44\n",
      "45\n",
      "46\n",
      "47\n",
      "48\n",
      "49\n",
      "50\n",
      "51\n",
      "52\n",
      "53\n",
      "54\n",
      "55\n",
      "56\n",
      "57\n",
      "58\n",
      "59\n",
      "60\n",
      "61\n",
      "62\n",
      "63\n",
      "64\n",
      "65\n",
      "66\n",
      "67\n",
      "68\n",
      "69\n",
      "70\n",
      "71\n",
      "72\n",
      "73\n",
      "74\n",
      "75\n",
      "76\n",
      "77\n",
      "78\n",
      "79\n",
      "80\n",
      "81\n",
      "82\n",
      "83\n",
      "84\n",
      "85\n",
      "86\n",
      "87\n",
      "88\n",
      "89\n",
      "90\n",
      "91\n",
      "92\n",
      "93\n",
      "94\n",
      "95\n",
      "96\n",
      "97\n",
      "98\n",
      "99\n",
      "100\n",
      "101\n",
      "102\n",
      "103\n",
      "104\n",
      "105\n",
      "106\n",
      "107\n",
      "108\n",
      "109\n",
      "110\n",
      "111\n",
      "112\n",
      "113\n",
      "114\n",
      "115\n",
      "116\n",
      "117\n",
      "118\n",
      "119\n",
      "120\n"
     ]
    }
   ],
   "source": [
    "total_iou_score_plus = 0\n",
    "total_accuracy_plus = 0\n",
    "total_loss_plus = 0\n",
    "c = 0\n",
    "\n",
    "for i in range(test.shape[0]):\n",
    "    c += 1\n",
    "    print(c)\n",
    "    a = test[i]\n",
    "    inp = torch.from_numpy(X[a])\n",
    "    inp = torch.unsqueeze(inp, 0).to(device).permute(0, 3, 1, 2)\n",
    "    outputs = unet_plus(inp.float())\n",
    "    outputs = torch.squeeze(outputs, 0).permute(1, 2, 0)\n",
    "\n",
    "    label = y[a]\n",
    "    out = np.zeros((label.shape[0], label.shape[1], 2))\n",
    "    for i in range(label.shape[0]):\n",
    "      for j in range(label.shape[1]):\n",
    "        if label[i][j] == 0:\n",
    "          out[i][j][0] = 1\n",
    "        elif label[i][j] == 1:\n",
    "          out[i][j][1] = 1\n",
    "        if label[i][j] == 2:\n",
    "          out[i][j][2] = 1\n",
    "        if label[i][j] == 3:\n",
    "          out[i][j][3] = 1\n",
    "\n",
    "    total_iou_score_plus += iou_score(outputs, out)\n",
    "    total_accuracy_plus += accuracy(outputs, out)\n",
    "    total_loss_plus += criterion(outputs.to(device), torch.from_numpy(out).to(device)).item()\n",
    "    \n",
    "total_iou_score_plus /= 613\n",
    "total_accuracy_plus /= 613\n",
    "total_loss_plus /= 613"
   ]
  },
  {
   "cell_type": "code",
   "execution_count": 102,
   "metadata": {},
   "outputs": [
    {
     "name": "stdout",
     "output_type": "stream",
     "text": [
      "IoU score : 0.09813962007835818, Accuracy : 18.852116894371942, BCE Dice Loss : 0.1743289794562974\n"
     ]
    }
   ],
   "source": [
    "print('IoU score : ' + str(total_iou_score) + ', Accuracy : ' + str(total_accuracy) + ', BCE Dice Loss : ' + str(total_loss))"
   ]
  },
  {
   "cell_type": "code",
   "execution_count": 103,
   "metadata": {},
   "outputs": [
    {
     "name": "stdout",
     "output_type": "stream",
     "text": [
      "IoU score : 0.18627788461113173, Accuracy : 19.071995298002907, BCE Dice Loss : 0.023662850329556066\n"
     ]
    }
   ],
   "source": [
    "print('IoU score : ' + str(total_iou_score_plus) + ', Accuracy : ' + str(total_accuracy_plus) + ', BCE Dice Loss : ' + str(total_loss_plus))"
   ]
  }
 ],
 "metadata": {
  "accelerator": "GPU",
  "colab": {
   "collapsed_sections": [],
   "name": "UNet.ipynb",
   "provenance": []
  },
  "kernelspec": {
   "display_name": "Python 3",
   "language": "python",
   "name": "python3"
  },
  "language_info": {
   "codemirror_mode": {
    "name": "ipython",
    "version": 3
   },
   "file_extension": ".py",
   "mimetype": "text/x-python",
   "name": "python",
   "nbconvert_exporter": "python",
   "pygments_lexer": "ipython3",
   "version": "3.7.1"
  }
 },
 "nbformat": 4,
 "nbformat_minor": 2
}
